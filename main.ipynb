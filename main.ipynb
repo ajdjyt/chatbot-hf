{
 "cells": [
  {
   "cell_type": "code",
   "execution_count": 1,
   "metadata": {},
   "outputs": [],
   "source": [
    "# If working in colab\n",
    "import locale\n",
    "locale.getpreferredencoding = lambda: \"UTF-8\""
   ]
  },
  {
   "cell_type": "code",
   "execution_count": null,
   "metadata": {},
   "outputs": [],
   "source": [
    "!pip install -qU transformers accelerate bitsandbytes rich sentencepiece"
   ]
  },
  {
   "cell_type": "code",
   "execution_count": 1,
   "metadata": {},
   "outputs": [],
   "source": [
    "from rich import print as rprint"
   ]
  },
  {
   "cell_type": "code",
   "execution_count": 2,
   "metadata": {},
   "outputs": [
    {
     "name": "stderr",
     "output_type": "stream",
     "text": [
      "Special tokens have been added in the vocabulary, make sure the associated word embeddings are fine-tuned or trained.\n",
      "Special tokens have been added in the vocabulary, make sure the associated word embeddings are fine-tuned or trained.\n"
     ]
    }
   ],
   "source": [
    "from transformers import AutoTokenizer\n",
    "import transformers \n",
    "import torch\n",
    "model = \"PY007/TinyLlama-1.1B-Chat-v0.3\"\n",
    "tokenizer = AutoTokenizer.from_pretrained(model)\n",
    "pipeline = transformers.pipeline(\n",
    "    \"text-generation\",\n",
    "    model=model,\n",
    "    torch_dtype=torch.float16,\n",
    "    device_map=\"auto\",\n",
    ")"
   ]
  },
  {
   "cell_type": "code",
   "execution_count": 3,
   "metadata": {},
   "outputs": [],
   "source": [
    "def converse(prompt,pipeline):\n",
    "    \n",
    "    formatted_prompt = (\n",
    "        f\"<|im_start|>user\\n{prompt}<|im_end|>\\n<|im_start|>assistant\\n\"\n",
    "    )\n",
    "\n",
    "    CHAT_EOS_TOKEN_ID = 32002\n",
    "\n",
    "    sequences = pipeline(\n",
    "        formatted_prompt,\n",
    "        do_sample=True,\n",
    "        top_k=50,\n",
    "        top_p = 0.9,\n",
    "        num_return_sequences=1,\n",
    "        repetition_penalty=1.1,\n",
    "        max_new_tokens=1024,\n",
    "        eos_token_id=CHAT_EOS_TOKEN_ID,\n",
    "    )\n",
    "    \n",
    "    out=[]\n",
    "    for seq in sequences:\n",
    "        rprint(f\"Result: {seq['generated_text']}\")\n",
    "        out.append(f\"Result: {seq['generated_text']}\")\n",
    "        \n",
    "    return out\n",
    "        "
   ]
  },
  {
   "cell_type": "code",
   "execution_count": 7,
   "metadata": {},
   "outputs": [
    {
     "name": "stderr",
     "output_type": "stream",
     "text": [
      "Setting `pad_token_id` to `eos_token_id`:32002 for open-end generation.\n"
     ]
    },
    {
     "data": {
      "text/html": [
       "<pre style=\"white-space:pre;overflow-x:auto;line-height:normal;font-family:Menlo,'DejaVu Sans Mono',consolas,'Courier New',monospace\">Result: <span style=\"font-weight: bold\">&lt;</span><span style=\"color: #ff00ff; text-decoration-color: #ff00ff; font-weight: bold\">|im_start|</span><span style=\"color: #000000; text-decoration-color: #000000\">&gt;user</span>\n",
       "<span style=\"color: #000000; text-decoration-color: #000000\">How do i write a program to print hello world in rust&lt;|im_end|&gt;</span>\n",
       "<span style=\"color: #000000; text-decoration-color: #000000\">&lt;|im_start|&gt;assistant</span>\n",
       "<span style=\"color: #000000; text-decoration-color: #000000\">To write a program in Rust that will print </span><span style=\"color: #008000; text-decoration-color: #008000\">\"Hello World\"</span><span style=\"color: #000000; text-decoration-color: #000000\"> to the terminal, you can use the following steps:</span>\n",
       "\n",
       "<span style=\"color: #000000; text-decoration-color: #000000\">Create a new Rust module called `main` with the following code:</span>\n",
       "<span style=\"color: #000000; text-decoration-color: #000000\">```rust</span>\n",
       "<span style=\"color: #000000; text-decoration-color: #000000\">fn </span><span style=\"color: #800080; text-decoration-color: #800080; font-weight: bold\">main</span><span style=\"color: #000000; text-decoration-color: #000000; font-weight: bold\">()</span><span style=\"color: #000000; text-decoration-color: #000000\"> </span><span style=\"color: #000000; text-decoration-color: #000000; font-weight: bold\">{</span>\n",
       "<span style=\"color: #000000; text-decoration-color: #000000\">    println!</span><span style=\"color: #000000; text-decoration-color: #000000; font-weight: bold\">(</span><span style=\"color: #008000; text-decoration-color: #008000\">\"Hello World!\"</span><span style=\"color: #000000; text-decoration-color: #000000; font-weight: bold\">)</span><span style=\"color: #000000; text-decoration-color: #000000\">;</span>\n",
       "<span style=\"color: #000000; text-decoration-color: #000000; font-weight: bold\">}</span>\n",
       "<span style=\"color: #000000; text-decoration-color: #000000\">```</span>\n",
       "<span style=\"color: #000000; text-decoration-color: #000000\">Create an executable file named `hello_world.exe` using the `rustc` command line tool. You can do this by running </span>\n",
       "<span style=\"color: #000000; text-decoration-color: #000000\">the following command in your terminal:</span>\n",
       "<span style=\"color: #000000; text-decoration-color: #000000\">```bash</span>\n",
       "<span style=\"color: #000000; text-decoration-color: #000000\">rustc -vF hello_world.rs </span><span style=\"font-weight: bold\">&gt;</span> hello_world.txt\n",
       "```\n",
       "Copy the contents of the `hello_world.txt` file into your desired location for execution. For example, if you want \n",
       "to execute the program on a system that has `hello_world.exe` installed, you would run the following command:\n",
       "```bash\n",
       ".<span style=\"color: #800080; text-decoration-color: #800080\">/</span><span style=\"color: #ff00ff; text-decoration-color: #ff00ff\">hello_world.exe</span>\n",
       "```\n",
       "You should see the <span style=\"color: #008000; text-decoration-color: #008000\">\"Hello World!\"</span> message displayed on the terminal.\n",
       "This is just one way to create and execute a Rust program, but there are many other ways as well. The key point to \n",
       "keep in mind is that Rust is a statically-typed language, so any changes to the code would require recompiling and \n",
       "loading the changes into memory.\n",
       "</pre>\n"
      ],
      "text/plain": [
       "Result: \u001b[1m<\u001b[0m\u001b[1;95m|im_start|\u001b[0m\u001b[39m>user\u001b[0m\n",
       "\u001b[39mHow do i write a program to print hello world in rust<|im_end|>\u001b[0m\n",
       "\u001b[39m<|im_start|>assistant\u001b[0m\n",
       "\u001b[39mTo write a program in Rust that will print \u001b[0m\u001b[32m\"Hello World\"\u001b[0m\u001b[39m to the terminal, you can use the following steps:\u001b[0m\n",
       "\n",
       "\u001b[39mCreate a new Rust module called `main` with the following code:\u001b[0m\n",
       "\u001b[39m```rust\u001b[0m\n",
       "\u001b[39mfn \u001b[0m\u001b[1;35mmain\u001b[0m\u001b[1;39m(\u001b[0m\u001b[1;39m)\u001b[0m\u001b[39m \u001b[0m\u001b[1;39m{\u001b[0m\n",
       "\u001b[39m    println!\u001b[0m\u001b[1;39m(\u001b[0m\u001b[32m\"Hello World!\"\u001b[0m\u001b[1;39m)\u001b[0m\u001b[39m;\u001b[0m\n",
       "\u001b[1;39m}\u001b[0m\n",
       "\u001b[39m```\u001b[0m\n",
       "\u001b[39mCreate an executable file named `hello_world.exe` using the `rustc` command line tool. You can do this by running \u001b[0m\n",
       "\u001b[39mthe following command in your terminal:\u001b[0m\n",
       "\u001b[39m```bash\u001b[0m\n",
       "\u001b[39mrustc -vF hello_world.rs \u001b[0m\u001b[1m>\u001b[0m hello_world.txt\n",
       "```\n",
       "Copy the contents of the `hello_world.txt` file into your desired location for execution. For example, if you want \n",
       "to execute the program on a system that has `hello_world.exe` installed, you would run the following command:\n",
       "```bash\n",
       ".\u001b[35m/\u001b[0m\u001b[95mhello_world.exe\u001b[0m\n",
       "```\n",
       "You should see the \u001b[32m\"Hello World!\"\u001b[0m message displayed on the terminal.\n",
       "This is just one way to create and execute a Rust program, but there are many other ways as well. The key point to \n",
       "keep in mind is that Rust is a statically-typed language, so any changes to the code would require recompiling and \n",
       "loading the changes into memory.\n"
      ]
     },
     "metadata": {},
     "output_type": "display_data"
    }
   ],
   "source": [
    "out=converse(\"How do i write a program to print hello world in rust\",pipeline)"
   ]
  },
  {
   "cell_type": "code",
   "execution_count": null,
   "metadata": {},
   "outputs": [],
   "source": []
  }
 ],
 "metadata": {
  "kernelspec": {
   "display_name": "hf",
   "language": "python",
   "name": "python3"
  },
  "language_info": {
   "codemirror_mode": {
    "name": "ipython",
    "version": 3
   },
   "file_extension": ".py",
   "mimetype": "text/x-python",
   "name": "python",
   "nbconvert_exporter": "python",
   "pygments_lexer": "ipython3",
   "version": "3.11.5"
  }
 },
 "nbformat": 4,
 "nbformat_minor": 2
}
